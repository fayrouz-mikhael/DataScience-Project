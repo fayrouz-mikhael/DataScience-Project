{
  "nbformat": 4,
  "nbformat_minor": 0,
  "metadata": {
    "colab": {
      "name": "project_Using3modelscomparison.ipynb",
      "provenance": [],
      "collapsed_sections": [],
      "include_colab_link": true
    },
    "kernelspec": {
      "name": "python3",
      "display_name": "Python 3"
    }
  },
  "cells": [
    {
      "cell_type": "markdown",
      "metadata": {
        "id": "view-in-github",
        "colab_type": "text"
      },
      "source": [
        "<a href=\"https://colab.research.google.com/github/fayrouz-mikhael/DataScience-Project/blob/master/project_Using3modelscomparison.ipynb\" target=\"_parent\"><img src=\"https://colab.research.google.com/assets/colab-badge.svg\" alt=\"Open In Colab\"/></a>"
      ]
    },
    {
      "cell_type": "code",
      "metadata": {
        "id": "GELLoiUnjRIn",
        "colab_type": "code",
        "colab": {}
      },
      "source": [
        "import numpy as np\n",
        "import pandas as pd\n",
        "import matplotlib.pyplot as plt\n",
        "\n",
        "from sklearn.linear_model import LinearRegression\n",
        "from sklearn.metrics import mean_squared_error\n",
        "from sklearn.ensemble import RandomForestClassifier\n",
        "from sklearn.model_selection import train_test_split\n",
        "from sklearn.ensemble import RandomForestRegressor\n",
        "from sklearn.tree import DecisionTreeRegressor \n",
        "from google.colab import files\n",
        "%matplotlib inline\n"
      ],
      "execution_count": 0,
      "outputs": []
    },
    {
      "cell_type": "code",
      "metadata": {
        "id": "8pQYjyHejiba",
        "colab_type": "code",
        "colab": {}
      },
      "source": [
        "train_df = pd.read_csv('https://grantmlong.com/data/SE_rents2018_train.csv', index_col=0)\n",
        "test_df = pd.read_csv('https://grantmlong.com/data/SE_rents2018_test1.csv', index_col=0)\n",
        "submit1_df = pd.read_csv('https://grantmlong.com/data/SE_rents2018_test2.csv', index_col=0)\n",
        "submit2_df = pd.read_csv('https://grantmlong.com/data/SE_rents2018_test3.csv', index_col=0)"
      ],
      "execution_count": 0,
      "outputs": []
    },
    {
      "cell_type": "code",
      "metadata": {
        "id": "Mc0U13wHjm4q",
        "colab_type": "code",
        "colab": {
          "base_uri": "https://localhost:8080/",
          "height": 1000
        },
        "outputId": "c9a50932-6bd5-47d2-eb60-41af263d5482"
      },
      "source": [
        "train_df.sample(5).transpose()"
      ],
      "execution_count": 193,
      "outputs": [
        {
          "output_type": "execute_result",
          "data": {
            "text/html": [
              "<div>\n",
              "<style scoped>\n",
              "    .dataframe tbody tr th:only-of-type {\n",
              "        vertical-align: middle;\n",
              "    }\n",
              "\n",
              "    .dataframe tbody tr th {\n",
              "        vertical-align: top;\n",
              "    }\n",
              "\n",
              "    .dataframe thead th {\n",
              "        text-align: right;\n",
              "    }\n",
              "</style>\n",
              "<table border=\"1\" class=\"dataframe\">\n",
              "  <thead>\n",
              "    <tr style=\"text-align: right;\">\n",
              "      <th>rental_id</th>\n",
              "      <th>7139746</th>\n",
              "      <th>7373257</th>\n",
              "      <th>7341304</th>\n",
              "      <th>7368613</th>\n",
              "      <th>7259923</th>\n",
              "    </tr>\n",
              "  </thead>\n",
              "  <tbody>\n",
              "    <tr>\n",
              "      <th>addr_unit</th>\n",
              "      <td>#3</td>\n",
              "      <td>#1B</td>\n",
              "      <td>#1C</td>\n",
              "      <td>#2</td>\n",
              "      <td>#2C</td>\n",
              "    </tr>\n",
              "    <tr>\n",
              "      <th>building_id</th>\n",
              "      <td>409330</td>\n",
              "      <td>130468</td>\n",
              "      <td>84388</td>\n",
              "      <td>409078</td>\n",
              "      <td>25639</td>\n",
              "    </tr>\n",
              "    <tr>\n",
              "      <th>bedrooms</th>\n",
              "      <td>4</td>\n",
              "      <td>3</td>\n",
              "      <td>2</td>\n",
              "      <td>4</td>\n",
              "      <td>1</td>\n",
              "    </tr>\n",
              "    <tr>\n",
              "      <th>bathrooms</th>\n",
              "      <td>1</td>\n",
              "      <td>2</td>\n",
              "      <td>2</td>\n",
              "      <td>1</td>\n",
              "      <td>1</td>\n",
              "    </tr>\n",
              "    <tr>\n",
              "      <th>size_sqft</th>\n",
              "      <td>950</td>\n",
              "      <td>1200</td>\n",
              "      <td>0</td>\n",
              "      <td>1200</td>\n",
              "      <td>0</td>\n",
              "    </tr>\n",
              "    <tr>\n",
              "      <th>created_at</th>\n",
              "      <td>2018-05-02 17:25:27</td>\n",
              "      <td>2018-07-17 09:14:52</td>\n",
              "      <td>2018-07-06 19:46:41</td>\n",
              "      <td>2018-07-15 18:27:29</td>\n",
              "      <td>2018-06-11 11:02:34</td>\n",
              "    </tr>\n",
              "    <tr>\n",
              "      <th>addr_street</th>\n",
              "      <td>192 CORNELIA STREET</td>\n",
              "      <td>44 BENNETT AVENUE</td>\n",
              "      <td>238 EAST 82 STREET</td>\n",
              "      <td>1117 JEFFERSON AVENUE</td>\n",
              "      <td>29 WEST 12 STREET</td>\n",
              "    </tr>\n",
              "    <tr>\n",
              "      <th>addr_city</th>\n",
              "      <td>Brooklyn</td>\n",
              "      <td>New York</td>\n",
              "      <td>New York</td>\n",
              "      <td>Brooklyn</td>\n",
              "      <td>New York</td>\n",
              "    </tr>\n",
              "    <tr>\n",
              "      <th>addr_zip</th>\n",
              "      <td>11221</td>\n",
              "      <td>10033</td>\n",
              "      <td>10028</td>\n",
              "      <td>11221</td>\n",
              "      <td>10011</td>\n",
              "    </tr>\n",
              "    <tr>\n",
              "      <th>addr_lat</th>\n",
              "      <td>40.6921</td>\n",
              "      <td>40.852</td>\n",
              "      <td>40.7754</td>\n",
              "      <td>40.6893</td>\n",
              "      <td>40.7353</td>\n",
              "    </tr>\n",
              "    <tr>\n",
              "      <th>addr_lon</th>\n",
              "      <td>-73.9133</td>\n",
              "      <td>-73.9364</td>\n",
              "      <td>-73.9544</td>\n",
              "      <td>-73.9156</td>\n",
              "      <td>-73.9956</td>\n",
              "    </tr>\n",
              "    <tr>\n",
              "      <th>bin</th>\n",
              "      <td>3.07758e+06</td>\n",
              "      <td>1.0644e+06</td>\n",
              "      <td>1.04857e+06</td>\n",
              "      <td>3.07752e+06</td>\n",
              "      <td>1.00963e+06</td>\n",
              "    </tr>\n",
              "    <tr>\n",
              "      <th>bbl</th>\n",
              "      <td>3033830014</td>\n",
              "      <td>1021800069</td>\n",
              "      <td>1015270031</td>\n",
              "      <td>3033810053</td>\n",
              "      <td>1005760055</td>\n",
              "    </tr>\n",
              "    <tr>\n",
              "      <th>floor_count</th>\n",
              "      <td>3</td>\n",
              "      <td>6</td>\n",
              "      <td>5</td>\n",
              "      <td>5</td>\n",
              "      <td>5</td>\n",
              "    </tr>\n",
              "    <tr>\n",
              "      <th>year_built</th>\n",
              "      <td>1905</td>\n",
              "      <td>1928</td>\n",
              "      <td>1910</td>\n",
              "      <td>1905</td>\n",
              "      <td>1920</td>\n",
              "    </tr>\n",
              "    <tr>\n",
              "      <th>min_to_subway</th>\n",
              "      <td>7.2</td>\n",
              "      <td>1.7</td>\n",
              "      <td>4.65</td>\n",
              "      <td>3.6833</td>\n",
              "      <td>2.4833</td>\n",
              "    </tr>\n",
              "    <tr>\n",
              "      <th>has_doorman</th>\n",
              "      <td>0</td>\n",
              "      <td>0</td>\n",
              "      <td>0</td>\n",
              "      <td>0</td>\n",
              "      <td>0</td>\n",
              "    </tr>\n",
              "    <tr>\n",
              "      <th>has_elevator</th>\n",
              "      <td>0</td>\n",
              "      <td>1</td>\n",
              "      <td>0</td>\n",
              "      <td>0</td>\n",
              "      <td>0</td>\n",
              "    </tr>\n",
              "    <tr>\n",
              "      <th>has_fireplace</th>\n",
              "      <td>0</td>\n",
              "      <td>0</td>\n",
              "      <td>0</td>\n",
              "      <td>0</td>\n",
              "      <td>0</td>\n",
              "    </tr>\n",
              "    <tr>\n",
              "      <th>has_dishwasher</th>\n",
              "      <td>1</td>\n",
              "      <td>1</td>\n",
              "      <td>1</td>\n",
              "      <td>1</td>\n",
              "      <td>1</td>\n",
              "    </tr>\n",
              "    <tr>\n",
              "      <th>is_furnished</th>\n",
              "      <td>0</td>\n",
              "      <td>0</td>\n",
              "      <td>0</td>\n",
              "      <td>0</td>\n",
              "      <td>0</td>\n",
              "    </tr>\n",
              "    <tr>\n",
              "      <th>has_gym</th>\n",
              "      <td>0</td>\n",
              "      <td>0</td>\n",
              "      <td>0</td>\n",
              "      <td>0</td>\n",
              "      <td>0</td>\n",
              "    </tr>\n",
              "    <tr>\n",
              "      <th>allows_pets</th>\n",
              "      <td>1</td>\n",
              "      <td>1</td>\n",
              "      <td>0</td>\n",
              "      <td>0</td>\n",
              "      <td>0</td>\n",
              "    </tr>\n",
              "    <tr>\n",
              "      <th>has_washer_dryer</th>\n",
              "      <td>0</td>\n",
              "      <td>1</td>\n",
              "      <td>1</td>\n",
              "      <td>0</td>\n",
              "      <td>0</td>\n",
              "    </tr>\n",
              "    <tr>\n",
              "      <th>has_garage</th>\n",
              "      <td>0</td>\n",
              "      <td>0</td>\n",
              "      <td>0</td>\n",
              "      <td>0</td>\n",
              "      <td>0</td>\n",
              "    </tr>\n",
              "    <tr>\n",
              "      <th>has_roofdeck</th>\n",
              "      <td>0</td>\n",
              "      <td>0</td>\n",
              "      <td>0</td>\n",
              "      <td>1</td>\n",
              "      <td>0</td>\n",
              "    </tr>\n",
              "    <tr>\n",
              "      <th>has_concierge</th>\n",
              "      <td>0</td>\n",
              "      <td>0</td>\n",
              "      <td>0</td>\n",
              "      <td>0</td>\n",
              "      <td>0</td>\n",
              "    </tr>\n",
              "    <tr>\n",
              "      <th>has_pool</th>\n",
              "      <td>0</td>\n",
              "      <td>0</td>\n",
              "      <td>0</td>\n",
              "      <td>0</td>\n",
              "      <td>0</td>\n",
              "    </tr>\n",
              "    <tr>\n",
              "      <th>has_garden</th>\n",
              "      <td>0</td>\n",
              "      <td>0</td>\n",
              "      <td>1</td>\n",
              "      <td>1</td>\n",
              "      <td>0</td>\n",
              "    </tr>\n",
              "    <tr>\n",
              "      <th>has_childrens_playroom</th>\n",
              "      <td>0</td>\n",
              "      <td>0</td>\n",
              "      <td>0</td>\n",
              "      <td>0</td>\n",
              "      <td>0</td>\n",
              "    </tr>\n",
              "    <tr>\n",
              "      <th>rent</th>\n",
              "      <td>3199</td>\n",
              "      <td>3600</td>\n",
              "      <td>3999</td>\n",
              "      <td>3500</td>\n",
              "      <td>3100</td>\n",
              "    </tr>\n",
              "    <tr>\n",
              "      <th>no_fee</th>\n",
              "      <td>1</td>\n",
              "      <td>0</td>\n",
              "      <td>1</td>\n",
              "      <td>1</td>\n",
              "      <td>1</td>\n",
              "    </tr>\n",
              "    <tr>\n",
              "      <th>description</th>\n",
              "      <td>Beautiful 4 bedroom apt! \\r\\nnew \\r\\nhigh ceil...</td>\n",
              "      <td>Gut renovated 3 bedroom 2 bathroom apartment o...</td>\n",
              "      <td>This over-sized, garden duplex home delivers g...</td>\n",
              "      <td>Newly renovated 4 BR/1 BA located in beautiful...</td>\n",
              "      <td>***NO FEE***    ***REST OF AUGUST FREE***\\r\\n\\...</td>\n",
              "    </tr>\n",
              "    <tr>\n",
              "      <th>neighborhood</th>\n",
              "      <td>Bushwick</td>\n",
              "      <td>Washington Heights</td>\n",
              "      <td>Upper East Side</td>\n",
              "      <td>Bushwick</td>\n",
              "      <td>Greenwich Village</td>\n",
              "    </tr>\n",
              "    <tr>\n",
              "      <th>borough</th>\n",
              "      <td>Brooklyn</td>\n",
              "      <td>Manhattan</td>\n",
              "      <td>Manhattan</td>\n",
              "      <td>Brooklyn</td>\n",
              "      <td>Manhattan</td>\n",
              "    </tr>\n",
              "    <tr>\n",
              "      <th>unit</th>\n",
              "      <td>3</td>\n",
              "      <td>1B</td>\n",
              "      <td>1C</td>\n",
              "      <td>2</td>\n",
              "      <td>2C</td>\n",
              "    </tr>\n",
              "    <tr>\n",
              "      <th>floornumber</th>\n",
              "      <td>3</td>\n",
              "      <td>1</td>\n",
              "      <td>1</td>\n",
              "      <td>2</td>\n",
              "      <td>2</td>\n",
              "    </tr>\n",
              "    <tr>\n",
              "      <th>line</th>\n",
              "      <td>NaN</td>\n",
              "      <td>B</td>\n",
              "      <td>C</td>\n",
              "      <td>NaN</td>\n",
              "      <td>C</td>\n",
              "    </tr>\n",
              "  </tbody>\n",
              "</table>\n",
              "</div>"
            ],
            "text/plain": [
              "rental_id                                                         7139746  ...                                            7259923\n",
              "addr_unit                                                              #3  ...                                                #2C\n",
              "building_id                                                        409330  ...                                              25639\n",
              "bedrooms                                                                4  ...                                                  1\n",
              "bathrooms                                                               1  ...                                                  1\n",
              "size_sqft                                                             950  ...                                                  0\n",
              "created_at                                            2018-05-02 17:25:27  ...                                2018-06-11 11:02:34\n",
              "addr_street                                           192 CORNELIA STREET  ...                                  29 WEST 12 STREET\n",
              "addr_city                                                        Brooklyn  ...                                           New York\n",
              "addr_zip                                                            11221  ...                                              10011\n",
              "addr_lat                                                          40.6921  ...                                            40.7353\n",
              "addr_lon                                                         -73.9133  ...                                           -73.9956\n",
              "bin                                                           3.07758e+06  ...                                        1.00963e+06\n",
              "bbl                                                            3033830014  ...                                         1005760055\n",
              "floor_count                                                             3  ...                                                  5\n",
              "year_built                                                           1905  ...                                               1920\n",
              "min_to_subway                                                         7.2  ...                                             2.4833\n",
              "has_doorman                                                             0  ...                                                  0\n",
              "has_elevator                                                            0  ...                                                  0\n",
              "has_fireplace                                                           0  ...                                                  0\n",
              "has_dishwasher                                                          1  ...                                                  1\n",
              "is_furnished                                                            0  ...                                                  0\n",
              "has_gym                                                                 0  ...                                                  0\n",
              "allows_pets                                                             1  ...                                                  0\n",
              "has_washer_dryer                                                        0  ...                                                  0\n",
              "has_garage                                                              0  ...                                                  0\n",
              "has_roofdeck                                                            0  ...                                                  0\n",
              "has_concierge                                                           0  ...                                                  0\n",
              "has_pool                                                                0  ...                                                  0\n",
              "has_garden                                                              0  ...                                                  0\n",
              "has_childrens_playroom                                                  0  ...                                                  0\n",
              "rent                                                                 3199  ...                                               3100\n",
              "no_fee                                                                  1  ...                                                  1\n",
              "description             Beautiful 4 bedroom apt! \\r\\nnew \\r\\nhigh ceil...  ...  ***NO FEE***    ***REST OF AUGUST FREE***\\r\\n\\...\n",
              "neighborhood                                                     Bushwick  ...                                  Greenwich Village\n",
              "borough                                                          Brooklyn  ...                                          Manhattan\n",
              "unit                                                                    3  ...                                                 2C\n",
              "floornumber                                                             3  ...                                                  2\n",
              "line                                                                  NaN  ...                                                  C\n",
              "\n",
              "[38 rows x 5 columns]"
            ]
          },
          "metadata": {
            "tags": []
          },
          "execution_count": 193
        }
      ]
    },
    {
      "cell_type": "code",
      "metadata": {
        "id": "w5u_kiJ7ycWK",
        "colab_type": "code",
        "colab": {}
      },
      "source": [
        "submit1_df['min_to_subway'] = submit1_df['min_to_subway'].fillna(submit1_df['min_to_subway'].mean())\n",
        "submit1_df.year_built = submit1_df.year_built.fillna(submit1_df.year_built.median(), axis=0)\n"
      ],
      "execution_count": 0,
      "outputs": []
    },
    {
      "cell_type": "code",
      "metadata": {
        "id": "8JHLg854jplu",
        "colab_type": "code",
        "colab": {}
      },
      "source": [
        "# extract usable features\n",
        "feature_cols = [\n",
        "    'bedrooms', 'year_built', 'bathrooms'\n",
        "]\n",
        "train_features = train_df[feature_cols] \n",
        "\n",
        "# impute missing values with medians\n",
        "train_features = train_features.fillna(train_features.median(), axis=0)\n",
        "\n",
        "# construct target vector\n",
        "train_target = train_df['rent']"
      ],
      "execution_count": 0,
      "outputs": []
    },
    {
      "cell_type": "markdown",
      "metadata": {
        "id": "YdvvZmR-Vn0M",
        "colab_type": "text"
      },
      "source": [
        "**Fit Model**"
      ]
    },
    {
      "cell_type": "code",
      "metadata": {
        "id": "8p6tWqN6jsqn",
        "colab_type": "code",
        "colab": {}
      },
      "source": [
        "lreg = LinearRegression()\n",
        "lreg.fit(train_features, train_target)\n",
        "\n",
        "rf = RandomForestRegressor(n_estimators = 1000, random_state = 42)\n",
        "rf.fit(train_features, train_target);\n",
        "\n",
        "DTR = DecisionTreeRegressor(random_state = 0)\n",
        "DTR.fit(train_features, train_target);"
      ],
      "execution_count": 0,
      "outputs": []
    },
    {
      "cell_type": "code",
      "metadata": {
        "id": "oWN8dQ1Mj3nB",
        "colab_type": "code",
        "colab": {
          "base_uri": "https://localhost:8080/",
          "height": 34
        },
        "outputId": "96011571-4231-4291-8248-859f316d8d99"
      },
      "source": [
        "test_features = test_df[feature_cols] \n",
        "\n",
        "# impute missing values with medians\n",
        "test_features = test_features.fillna(train_features.median(), axis=0)\n",
        "\n",
        "# construct predictions \n",
        "test_df['predicted'] = DTR.predict(test_features)\n",
        "\n",
        "mean_squared_error(test_df['rent'], test_df['predicted'])"
      ],
      "execution_count": 216,
      "outputs": [
        {
          "output_type": "execute_result",
          "data": {
            "text/plain": [
              "5052622.901633972"
            ]
          },
          "metadata": {
            "tags": []
          },
          "execution_count": 216
        }
      ]
    },
    {
      "cell_type": "code",
      "metadata": {
        "id": "uYk-wqwYj79s",
        "colab_type": "code",
        "colab": {
          "base_uri": "https://localhost:8080/",
          "height": 102
        },
        "outputId": "784daa43-2535-4424-a4f2-dfa26d4ff3ce"
      },
      "source": [
        "master_df = train_df.append(test_df, sort=False)\n",
        "\n",
        "master_features = master_df[feature_cols].fillna(master_df[feature_cols].median(), axis=0)\n",
        "master_target = master_df['rent']\n",
        "\n",
        "DTR.fit(master_features, master_target)"
      ],
      "execution_count": 217,
      "outputs": [
        {
          "output_type": "execute_result",
          "data": {
            "text/plain": [
              "DecisionTreeRegressor(criterion='mse', max_depth=None, max_features=None,\n",
              "                      max_leaf_nodes=None, min_impurity_decrease=0.0,\n",
              "                      min_impurity_split=None, min_samples_leaf=1,\n",
              "                      min_samples_split=2, min_weight_fraction_leaf=0.0,\n",
              "                      presort=False, random_state=0, splitter='best')"
            ]
          },
          "metadata": {
            "tags": []
          },
          "execution_count": 217
        }
      ]
    },
    {
      "cell_type": "markdown",
      "metadata": {
        "id": "RtvqKYIeW9PI",
        "colab_type": "text"
      },
      "source": [
        "**LREG:Create Submission File for test2**"
      ]
    },
    {
      "cell_type": "code",
      "metadata": {
        "id": "ixsl8xoCkY0D",
        "colab_type": "code",
        "colab": {
          "base_uri": "https://localhost:8080/",
          "height": 34
        },
        "outputId": "2ab2b628-9013-4af7-9d8e-fc53df25d078"
      },
      "source": [
        "submit1_features = submit1_df[feature_cols].fillna(master_df[feature_cols].median(), axis=0)\n",
        "submit1_df['predictions'] = lreg.predict(submit1_features)\n",
        "submit1_df['predictions'].to_csv('sample_submission1.csv', header=True)\n",
        "\n",
        "submit1_df['fake_rent'] = np.ones(submit1_df['predictions'].shape) * master_target.median()\n",
        "mean_squared_error(submit1_df['predictions'], submit1_df['fake_rent'])\n"
      ],
      "execution_count": 230,
      "outputs": [
        {
          "output_type": "execute_result",
          "data": {
            "text/plain": [
              "3098061.112076225"
            ]
          },
          "metadata": {
            "tags": []
          },
          "execution_count": 230
        }
      ]
    },
    {
      "cell_type": "code",
      "metadata": {
        "id": "53ZgZZdAxoPd",
        "colab_type": "code",
        "colab": {}
      },
      "source": [
        "outputdf = submit1_df[['predictions']]\n",
        "outputdf.to_csv('output.csv')\n",
        "files.download('output.csv')"
      ],
      "execution_count": 0,
      "outputs": []
    },
    {
      "cell_type": "markdown",
      "metadata": {
        "id": "qIz4LZJSXWG2",
        "colab_type": "text"
      },
      "source": [
        "**RF:Create Submission File for test2**"
      ]
    },
    {
      "cell_type": "code",
      "metadata": {
        "id": "N7pEzS_E9y1f",
        "colab_type": "code",
        "colab": {
          "base_uri": "https://localhost:8080/",
          "height": 34
        },
        "outputId": "db113007-45ab-4913-c609-6b659fcb4754"
      },
      "source": [
        "submit1_featuresRF = test_df[feature_cols].fillna(train_features.median(), axis=0)\n",
        "submit1_df['predictions'] = rf.predict(submit1_featuresRF)\n",
        "submit1_df['predictions'].to_csv('sample_submission1.csv', header=True)\n",
        "submit1_df['fake_rent'] = np.ones(submit1_df['predictions'].shape) * master_target.median()\n",
        "\n",
        "print('Mean squared Error:', mean_squared_error( submit1_df['predictions'],submit1_df['fake_rent']))"
      ],
      "execution_count": 218,
      "outputs": [
        {
          "output_type": "stream",
          "text": [
            "Mean squared Error: 5321298.255968601\n"
          ],
          "name": "stdout"
        }
      ]
    },
    {
      "cell_type": "markdown",
      "metadata": {
        "id": "-LAV-_0DX2ul",
        "colab_type": "text"
      },
      "source": [
        "**DT:Create Submission File for test2**"
      ]
    },
    {
      "cell_type": "code",
      "metadata": {
        "id": "0Ab60Pa7MK9_",
        "colab_type": "code",
        "colab": {
          "base_uri": "https://localhost:8080/",
          "height": 34
        },
        "outputId": "0464fcaa-69ff-4eb5-8262-aad33ab36670"
      },
      "source": [
        "submit1_featuresDTR = test_df[feature_cols].fillna(train_features.median(), axis=0)\n",
        "submit1_df['predictions'] = DTR.predict(submit1_featuresDTR)\n",
        "\n",
        "submit1_df['predictions'].to_csv('sample_submission1.csv', header=True)\n",
        "submit1_df['fake_rent'] = np.ones(submit1_df['predictions'].shape) * master_target.median()\n",
        "\n",
        "print('Mean squared Error:', mean_squared_error(submit1_df['predictions'],submit1_df['fake_rent']))"
      ],
      "execution_count": 220,
      "outputs": [
        {
          "output_type": "stream",
          "text": [
            "Mean squared Error: 5884941.237391475\n"
          ],
          "name": "stdout"
        }
      ]
    },
    {
      "cell_type": "code",
      "metadata": {
        "id": "uIGTbhbgxT0B",
        "colab_type": "code",
        "colab": {
          "base_uri": "https://localhost:8080/",
          "height": 714
        },
        "outputId": "2de3dd52-cc87-4ed9-d0e7-2adae0203401"
      },
      "source": [
        "submit1_df.isna().sum()\n"
      ],
      "execution_count": 202,
      "outputs": [
        {
          "output_type": "execute_result",
          "data": {
            "text/plain": [
              "addr_unit                   29\n",
              "building_id                  0\n",
              "bedrooms                     0\n",
              "bathrooms                    0\n",
              "size_sqft                    0\n",
              "created_at                   0\n",
              "addr_street                  0\n",
              "addr_city                    0\n",
              "addr_zip                     0\n",
              "addr_lat                     0\n",
              "addr_lon                     0\n",
              "bin                          0\n",
              "bbl                          0\n",
              "floor_count                  0\n",
              "year_built                   0\n",
              "min_to_subway                0\n",
              "has_doorman                  0\n",
              "has_elevator                 0\n",
              "has_fireplace                0\n",
              "has_dishwasher               0\n",
              "is_furnished                 0\n",
              "has_gym                      0\n",
              "allows_pets                  0\n",
              "has_washer_dryer             0\n",
              "has_garage                   0\n",
              "has_roofdeck                 0\n",
              "has_concierge                0\n",
              "has_pool                     0\n",
              "has_garden                   0\n",
              "has_childrens_playroom       0\n",
              "rent                      2000\n",
              "no_fee                       0\n",
              "description                  0\n",
              "neighborhood                 1\n",
              "borough                      0\n",
              "unit                        29\n",
              "floornumber                263\n",
              "line                       612\n",
              "predictions                  0\n",
              "fake_rent                    0\n",
              "dtype: int64"
            ]
          },
          "metadata": {
            "tags": []
          },
          "execution_count": 202
        }
      ]
    }
  ]
}