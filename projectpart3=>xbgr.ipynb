{
  "nbformat": 4,
  "nbformat_minor": 0,
  "metadata": {
    "colab": {
      "name": "projectpart3=>xbgr.ipynb",
      "provenance": [],
      "include_colab_link": true
    },
    "kernelspec": {
      "name": "python3",
      "display_name": "Python 3"
    }
  },
  "cells": [
    {
      "cell_type": "markdown",
      "metadata": {
        "id": "view-in-github",
        "colab_type": "text"
      },
      "source": [
        "<a href=\"https://colab.research.google.com/github/fayrouz-mikhael/DataScience-Project/blob/master/projectpart3%3D%3Exbgr.ipynb\" target=\"_parent\"><img src=\"https://colab.research.google.com/assets/colab-badge.svg\" alt=\"Open In Colab\"/></a>"
      ]
    },
    {
      "cell_type": "code",
      "metadata": {
        "id": "m9tR7OGixfqQ",
        "colab_type": "code",
        "colab": {}
      },
      "source": [
        "import pandas as pd\n",
        "import numpy as np\n",
        "import re\n",
        "import matplotlib.pyplot as plt \n",
        "from sklearn.linear_model import LinearRegression\n",
        "import seaborn as sns\n",
        "import io\n",
        "import requests\n",
        "from sklearn.model_selection import KFold, train_test_split\n",
        "%matplotlib inline\n",
        "from sklearn.metrics import mean_squared_error\n",
        "from sklearn.ensemble import RandomForestRegressor\n",
        "from sklearn.ensemble import GradientBoostingRegressor\n",
        "from sklearn.tree import DecisionTreeRegressor \n",
        "import xgboost as xgb"
      ],
      "execution_count": 0,
      "outputs": []
    },
    {
      "cell_type": "code",
      "metadata": {
        "id": "Nm2HD2bjxqcv",
        "colab_type": "code",
        "colab": {}
      },
      "source": [
        "train_df = pd.read_csv('https://grantmlong.com/data/SE_rents2018_train.csv', index_col=0)\n",
        "test_df = pd.read_csv('https://grantmlong.com/data/SE_rents2018_test1.csv', index_col=0)\n",
        "submit1_df = pd.read_csv('https://grantmlong.com/data/SE_rents2018_test2.csv', index_col=0)\n",
        "submit2_df = pd.read_csv('https://grantmlong.com/data/SE_rents2018_test3.csv', index_col=0)\n",
        "schools_df = pd.read_csv('https://raw.githubusercontent.com/12NaN/data-science-project/frank/school_data.csv',index_col=0)\n",
        "\n",
        "train_df = train_df.reset_index().merge(schools_df, on='addr_zip', how='left').set_index(train_df.index.names)\n",
        "test_df = test_df.reset_index().merge(schools_df, on='addr_zip', how='left').set_index(test_df.index.names)\n",
        "\n",
        "submit1_df = submit1_df.reset_index().merge(schools_df, on='addr_zip', how='left').set_index(submit1_df.index.names)\n",
        "submit2_df = submit2_df.reset_index().merge(schools_df, on='addr_zip', how='left').set_index(submit2_df.index.names)\n",
        "\n",
        "train_df = train_df.drop(train_df[(train_df['size_sqft']>8000) & (train_df['rent']<10000)].index)\n",
        "train_df = train_df.drop(train_df[(train_df['bathrooms']>=12) & (train_df['rent']<10000)].index)\n",
        "\n",
        "train_df = train_df.drop(train_df[(train_df['bathrooms']==6) & (train_df['rent']<20000)].index)\n",
        "\n",
        "train_df = train_df.drop(train_df[(train_df['bedrooms']>=8) & (train_df['rent']<20000)].index)\n",
        "\n",
        "cf = submit1_df\n",
        "'''\n",
        "#avg_subway_time_per_zip = train_df[['addr_zip', 'min_to_subway']].groupby('addr_zip').mean()\n",
        "#avg_subway_time_per_zip = avg_subway_time_per_zip.fillna(avg_subway_time_per_zip.max())\n",
        "#cf.min_to_subway = cf.min_to_subway.fillna(train_df[train_df['min_to_subway'].isnull()].apply(lambda row: avg_subway_time_per_zip.loc[row['addr_zip']][0], axis=1))\n",
        "cf.min_to_subway = ef.fill_mins_to_subway(cf)\n",
        "\n",
        "data = train_df[['size_sqft', 'bathrooms', 'bedrooms']]\n",
        "    # Setup and fit model\n",
        "train_data = data.loc[data['size_sqft'] != 0]\n",
        "clf = LinearRegression()\n",
        "features = ['bathrooms', 'bedrooms']\n",
        "clf.fit(train_data[features], train_data['size_sqft'])\n",
        "cf.loc[cf['size_sqft'] == 0, 'size_sqft'] = np.NaN\n",
        "test_data = cf.loc[cf['size_sqft'].isna()]\n",
        "predicted_sqft = clf.predict(test_data[features])\n",
        "sqft_predict = pd.Series(index= test_data.index, data = predicted_sqft)\n",
        "cf.size_sqft = cf.size_sqft.fillna(sqft_predict)\n",
        "\n",
        "cf.size_sqft = ef.fill_size_sqft(cf)\n",
        "cf.year_built = cf.year_built.fillna(cf.year_built.median(), axis=0)\n",
        "'''\n",
        "\n",
        "cf = submit1_df #retaining the dataframe in cf instead incase I want to look at the original without edits\n",
        "cf.min_to_subway = cf.min_to_subway.fillna(cf.min_to_subway.median(), axis=0) #Replacing empty values with the mean of the entire column\n",
        "cf.year_built = cf.year_built.fillna(cf.year_built.median(), axis=0) #Replacing empty values with the median of the entire column\n",
        "cf.loc[cf['size_sqft']==0,'size_sqft'] = np.nan\n",
        "cf.size_sqft = cf.size_sqft.fillna(cf.size_sqft.median(), axis=0)\n",
        "\n",
        "\n",
        "cf2 = submit2_df #retaining the dataframe in cf instead incase I want to look at the original without edits\n",
        "cf2.min_to_subway = cf2.min_to_subway.fillna(cf2.min_to_subway.mean(), axis=0) #Replacing empty values with the mean of the entire column\n",
        "cf2.year_built = cf2.year_built.fillna(cf2.year_built.median(), axis=0) #Replacing empty values with the median of the entire column\n",
        "cf2.loc[cf2['size_sqft']==0,'size_sqft'] = np.nan\n",
        "cf2.size_sqft = cf2.size_sqft.fillna(cf2.size_sqft.mean(), axis=0)"
      ],
      "execution_count": 0,
      "outputs": []
    },
    {
      "cell_type": "code",
      "metadata": {
        "id": "6plFRNlo_OiF",
        "colab_type": "code",
        "colab": {
          "base_uri": "https://localhost:8080/",
          "height": 153
        },
        "outputId": "25b28776-9ba1-4441-8f24-c7e464fcb752"
      },
      "source": [
        "cols_with_null = cf.columns[cf.isna().any()] # Return columns with null values \n",
        "\n",
        "cf[cols_with_null].isna().sum().sort_values(ascending=False) "
      ],
      "execution_count": 254,
      "outputs": [
        {
          "output_type": "execute_result",
          "data": {
            "text/plain": [
              "rent            2000\n",
              "line             612\n",
              "Occurrences      397\n",
              "floornumber      263\n",
              "unit              29\n",
              "addr_unit         29\n",
              "neighborhood       1\n",
              "dtype: int64"
            ]
          },
          "metadata": {
            "tags": []
          },
          "execution_count": 254
        }
      ]
    },
    {
      "cell_type": "markdown",
      "metadata": {
        "id": "0g8SwWPLyBjy",
        "colab_type": "text"
      },
      "source": [
        "**Build training data**"
      ]
    },
    {
      "cell_type": "code",
      "metadata": {
        "id": "Ia1KuurjK21N",
        "colab_type": "code",
        "colab": {}
      },
      "source": [
        "def get_cv_results(classifier, cf):\n",
        "    results = []\n",
        "    k_fold = KFold(n_splits=10)\n",
        "    \n",
        "    for train, test in k_fold.split(cf):\n",
        "        classifier.fit(cf.loc[train, features], cf.loc[train, 'rent'])\n",
        "        y_predicted = classifier.predict(cf.loc[test, features])\n",
        "        accuracy = mean_squared_error(cf.loc[test, 'rent'], y_predicted)\n",
        "        results.append(accuracy)\n",
        "    return np.mean(results), np.std(results)"
      ],
      "execution_count": 0,
      "outputs": []
    },
    {
      "cell_type": "code",
      "metadata": {
        "id": "Tvyd6u63yEVQ",
        "colab_type": "code",
        "colab": {}
      },
      "source": [
        "# extract usable features\n",
        "feature_cols = [\n",
        "    'bedrooms', 'year_built', 'bathrooms', 'min_to_subway', \n",
        "    'size_sqft', 'no_fee', 'has_doorman', 'Occurrences'\n",
        "]\n",
        "#Year build and minute values are the only features with missing values\n",
        "train_features = train_df[feature_cols] \n",
        "\n",
        "# impute missing values with medians\n",
        "train_features = train_features.fillna(train_features.median(), axis=0)\n",
        "\n",
        "# construct target vector\n",
        "train_target = train_df['rent']\n"
      ],
      "execution_count": 0,
      "outputs": []
    },
    {
      "cell_type": "markdown",
      "metadata": {
        "id": "VmbzfhFeyJJ5",
        "colab_type": "text"
      },
      "source": [
        "**Fit model**"
      ]
    },
    {
      "cell_type": "code",
      "metadata": {
        "id": "GWHTy2vKyH-e",
        "colab_type": "code",
        "colab": {
          "base_uri": "https://localhost:8080/",
          "height": 190
        },
        "outputId": "cd1fafd7-b3c1-4f47-82ed-029b38dd980e"
      },
      "source": [
        "lreg = LinearRegression()\n",
        "lreg.fit(train_features, train_target)\n",
        "\n",
        "rf = RandomForestRegressor()\n",
        "rf.fit(train_features, train_target)"
      ],
      "execution_count": 257,
      "outputs": [
        {
          "output_type": "stream",
          "text": [
            "/usr/local/lib/python3.6/dist-packages/sklearn/ensemble/forest.py:245: FutureWarning: The default value of n_estimators will change from 10 in version 0.20 to 100 in 0.22.\n",
            "  \"10 in version 0.20 to 100 in 0.22.\", FutureWarning)\n"
          ],
          "name": "stderr"
        },
        {
          "output_type": "execute_result",
          "data": {
            "text/plain": [
              "RandomForestRegressor(bootstrap=True, criterion='mse', max_depth=None,\n",
              "                      max_features='auto', max_leaf_nodes=None,\n",
              "                      min_impurity_decrease=0.0, min_impurity_split=None,\n",
              "                      min_samples_leaf=1, min_samples_split=2,\n",
              "                      min_weight_fraction_leaf=0.0, n_estimators=10,\n",
              "                      n_jobs=None, oob_score=False, random_state=None,\n",
              "                      verbose=0, warm_start=False)"
            ]
          },
          "metadata": {
            "tags": []
          },
          "execution_count": 257
        }
      ]
    },
    {
      "cell_type": "markdown",
      "metadata": {
        "id": "9ihHE4wfyPaj",
        "colab_type": "text"
      },
      "source": [
        "**Predict and Measure Using Test 1**"
      ]
    },
    {
      "cell_type": "code",
      "metadata": {
        "id": "pphPacJNyPzp",
        "colab_type": "code",
        "colab": {
          "base_uri": "https://localhost:8080/",
          "height": 34
        },
        "outputId": "9944df12-e63f-4460-d816-59903fec40bb"
      },
      "source": [
        "test_features = test_df[feature_cols] \n",
        "\n",
        "# impute missing values with medians\n",
        "test_features = test_features.fillna(train_features.median(), axis=0)\n",
        "\n",
        "# construct predictions \n",
        "test_df['predicted'] = rf.predict(test_features)\n",
        "\n",
        "mean_squared_error(test_df['rent'], test_df['predicted'])"
      ],
      "execution_count": 258,
      "outputs": [
        {
          "output_type": "execute_result",
          "data": {
            "text/plain": [
              "2518462.6964349574"
            ]
          },
          "metadata": {
            "tags": []
          },
          "execution_count": 258
        }
      ]
    },
    {
      "cell_type": "markdown",
      "metadata": {
        "id": "lP1PzY5Lyrg_",
        "colab_type": "text"
      },
      "source": [
        "**Combine Data, Predict Values for Test 2**"
      ]
    },
    {
      "cell_type": "code",
      "metadata": {
        "id": "0V9Q56cqyqXw",
        "colab_type": "code",
        "colab": {
          "base_uri": "https://localhost:8080/",
          "height": 221
        },
        "outputId": "60ab3448-2364-4fd7-94ea-cd04f65966d1"
      },
      "source": [
        "\n",
        "master_df = train_df.append(test_df, sort=False)\n",
        "\n",
        "master_df.loc[master_df['size_sqft']==0,'size_sqft'] = np.nan\n",
        "master_df.size_sqft = master_df.size_sqft.fillna(master_df.size_sqft.mean(), axis=0)\n",
        "\n",
        "master_features = master_df[feature_cols].fillna(master_df[feature_cols].median(), axis=0)\n",
        "master_target = master_df['rent']\n",
        "\n",
        "rf.fit(master_features, master_target)\n",
        "\n",
        "\n",
        "#DTR = DecisionTreeRegressor(random_state = 0)\n",
        "#DTR.fit(train_features,train_target)\n",
        "xgbr = xgb.XGBRegressor()\n",
        "xgbr.fit(train_features, train_target)"
      ],
      "execution_count": 259,
      "outputs": [
        {
          "output_type": "stream",
          "text": [
            "/usr/local/lib/python3.6/dist-packages/xgboost/core.py:587: FutureWarning: Series.base is deprecated and will be removed in a future version\n",
            "  if getattr(data, 'base', None) is not None and \\\n",
            "/usr/local/lib/python3.6/dist-packages/xgboost/core.py:588: FutureWarning: Series.base is deprecated and will be removed in a future version\n",
            "  data.base is not None and isinstance(data, np.ndarray) \\\n"
          ],
          "name": "stderr"
        },
        {
          "output_type": "stream",
          "text": [
            "[03:58:48] WARNING: /workspace/src/objective/regression_obj.cu:152: reg:linear is now deprecated in favor of reg:squarederror.\n"
          ],
          "name": "stdout"
        },
        {
          "output_type": "execute_result",
          "data": {
            "text/plain": [
              "XGBRegressor(base_score=0.5, booster='gbtree', colsample_bylevel=1,\n",
              "             colsample_bynode=1, colsample_bytree=1, gamma=0,\n",
              "             importance_type='gain', learning_rate=0.1, max_delta_step=0,\n",
              "             max_depth=3, min_child_weight=1, missing=None, n_estimators=100,\n",
              "             n_jobs=1, nthread=None, objective='reg:linear', random_state=0,\n",
              "             reg_alpha=0, reg_lambda=1, scale_pos_weight=1, seed=None,\n",
              "             silent=None, subsample=1, verbosity=1)"
            ]
          },
          "metadata": {
            "tags": []
          },
          "execution_count": 259
        }
      ]
    },
    {
      "cell_type": "code",
      "metadata": {
        "id": "88zmlYpmywoW",
        "colab_type": "code",
        "colab": {
          "base_uri": "https://localhost:8080/",
          "height": 238
        },
        "outputId": "1845d68f-2a49-488e-ea55-681fef5aa5bc"
      },
      "source": [
        "print(cf['rent'].value_counts)"
      ],
      "execution_count": 260,
      "outputs": [
        {
          "output_type": "stream",
          "text": [
            "<bound method IndexOpsMixin.value_counts of rental_id\n",
            "7428577   NaN\n",
            "7454944   NaN\n",
            "7473595   NaN\n",
            "7490488   NaN\n",
            "7460896   NaN\n",
            "           ..\n",
            "7451410   NaN\n",
            "7493779   NaN\n",
            "7474525   NaN\n",
            "7507738   NaN\n",
            "7443274   NaN\n",
            "Name: rent, Length: 2000, dtype: float64>\n"
          ],
          "name": "stdout"
        }
      ]
    },
    {
      "cell_type": "markdown",
      "metadata": {
        "id": "Ekm8cWwIyypO",
        "colab_type": "text"
      },
      "source": [
        "**Create Submission File for test2**"
      ]
    },
    {
      "cell_type": "code",
      "metadata": {
        "id": "_JvQJaM0y1iY",
        "colab_type": "code",
        "colab": {
          "base_uri": "https://localhost:8080/",
          "height": 34
        },
        "outputId": "bf061481-19f8-4e6f-cad3-b1a1a1a0d927"
      },
      "source": [
        "submit1_features = cf[feature_cols].fillna(master_df[feature_cols].median(), axis=0)\n",
        "cf['predictions'] = gbr.predict(submit1_features)\n",
        "cf['predictions'].to_csv('sample_submission1.csv', header=True)\n",
        "\n",
        "cf['fake_rent'] = np.ones(cf['predictions'].shape) * master_target.median()\n",
        "mean_squared_error(cf['predictions'], test_df['rent'])"
      ],
      "execution_count": 261,
      "outputs": [
        {
          "output_type": "execute_result",
          "data": {
            "text/plain": [
              "13949961.53976128"
            ]
          },
          "metadata": {
            "tags": []
          },
          "execution_count": 261
        }
      ]
    },
    {
      "cell_type": "markdown",
      "metadata": {
        "id": "3Nm5o4mAzAgq",
        "colab_type": "text"
      },
      "source": [
        "**Create Submission File for test3**"
      ]
    },
    {
      "cell_type": "code",
      "metadata": {
        "id": "03OhnybfzDxF",
        "colab_type": "code",
        "colab": {
          "base_uri": "https://localhost:8080/",
          "height": 34
        },
        "outputId": "6eb1c516-1b73-427b-fca5-ffb6c34ffe7a"
      },
      "source": [
        "submit2_features = cf2[feature_cols].fillna(master_df[feature_cols].median(), axis=0)\n",
        "cf2['predictions'] = gbr.predict(submit2_features)\n",
        "cf2['predictions'].to_csv('sample_submission2.csv', header=True)\n",
        "\n",
        "cf2['fake_rent'] = np.ones(cf2['predictions'].shape) * master_target.median()\n",
        "mean_squared_error(cf2['predictions'], test_df['rent'])"
      ],
      "execution_count": 262,
      "outputs": [
        {
          "output_type": "execute_result",
          "data": {
            "text/plain": [
              "12428350.773642113"
            ]
          },
          "metadata": {
            "tags": []
          },
          "execution_count": 262
        }
      ]
    }
  ]
}