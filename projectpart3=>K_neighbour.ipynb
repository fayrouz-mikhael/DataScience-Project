{
  "nbformat": 4,
  "nbformat_minor": 0,
  "metadata": {
    "colab": {
      "name": "projectpart3=>K-neighbour.ipynb",
      "provenance": [],
      "include_colab_link": true
    },
    "kernelspec": {
      "name": "python3",
      "display_name": "Python 3"
    }
  },
  "cells": [
    {
      "cell_type": "markdown",
      "metadata": {
        "id": "view-in-github",
        "colab_type": "text"
      },
      "source": [
        "<a href=\"https://colab.research.google.com/github/fayrouz-mikhael/DataScience-Project/blob/master/projectpart3%3D%3EK_neighbour.ipynb\" target=\"_parent\"><img src=\"https://colab.research.google.com/assets/colab-badge.svg\" alt=\"Open In Colab\"/></a>"
      ]
    },
    {
      "cell_type": "code",
      "metadata": {
        "id": "m9tR7OGixfqQ",
        "colab_type": "code",
        "colab": {}
      },
      "source": [
        "import pandas as pd\n",
        "import numpy as np\n",
        "import re\n",
        "import matplotlib.pyplot as plt \n",
        "from sklearn.linear_model import LinearRegression\n",
        "import seaborn as sns\n",
        "import io\n",
        "import requests\n",
        "from sklearn.model_selection import KFold, train_test_split\n",
        "%matplotlib inline\n",
        "from sklearn.metrics import mean_squared_error\n",
        "from sklearn.ensemble import RandomForestRegressor\n",
        "from sklearn.ensemble import GradientBoostingRegressor\n",
        "from sklearn.tree import DecisionTreeRegressor \n",
        "from sklearn.neighbors import KNeighborsClassifier\n",
        "import xgboost as xgb\n",
        "from sklearn.linear_model import Ridge"
      ],
      "execution_count": 0,
      "outputs": []
    },
    {
      "cell_type": "code",
      "metadata": {
        "id": "Nm2HD2bjxqcv",
        "colab_type": "code",
        "colab": {}
      },
      "source": [
        "train_df = pd.read_csv('https://grantmlong.com/data/SE_rents2018_train.csv', index_col=0)\n",
        "test_df = pd.read_csv('https://grantmlong.com/data/SE_rents2018_test1.csv', index_col=0)\n",
        "submit1_df = pd.read_csv('https://grantmlong.com/data/SE_rents2018_test2.csv', index_col=0)\n",
        "submit2_df = pd.read_csv('https://grantmlong.com/data/SE_rents2018_test3.csv', index_col=0)\n",
        "schools_df = pd.read_csv('https://raw.githubusercontent.com/12NaN/data-science-project/frank/school_data.csv',index_col=0)\n",
        "\n",
        "train_df = train_df.reset_index().merge(schools_df, on='addr_zip', how='left').set_index(train_df.index.names)\n",
        "test_df = test_df.reset_index().merge(schools_df, on='addr_zip', how='left').set_index(test_df.index.names)\n",
        "\n",
        "submit1_df = submit1_df.reset_index().merge(schools_df, on='addr_zip', how='left').set_index(submit1_df.index.names)\n",
        "submit2_df = submit2_df.reset_index().merge(schools_df, on='addr_zip', how='left').set_index(submit2_df.index.names)\n",
        "\n",
        "train_df = train_df.drop(train_df[(train_df['size_sqft']>8000) & (train_df['rent']<10000)].index)\n",
        "train_df = train_df.drop(train_df[(train_df['bathrooms']>=12) & (train_df['rent']<10000)].index)\n",
        "\n",
        "train_df = train_df.drop(train_df[(train_df['bathrooms']==6) & (train_df['rent']<20000)].index)\n",
        "\n",
        "train_df = train_df.drop(train_df[(train_df['bedrooms']>=8) & (train_df['rent']<20000)].index)\n",
        "\n",
        "cf = submit1_df\n",
        "\n",
        "cf = submit1_df #retaining the dataframe in cf instead incase I want to look at the original without edits\n",
        "cf.min_to_subway = cf.min_to_subway.fillna(cf.min_to_subway.mean(), axis=0) #Replacing empty values with the mean of the entire column\n",
        "cf.year_built = cf.year_built.fillna(cf.year_built.median(), axis=0) #Replacing empty values with the median of the entire column\n",
        "cf.loc[cf['size_sqft']==0,'size_sqft'] = np.nan\n",
        "cf.size_sqft = cf.size_sqft.fillna(cf.size_sqft.mean(), axis=0)\n",
        "\n",
        "\n",
        "cf2 = submit2_df #retaining the dataframe in cf instead incase I want to look at the original without edits\n",
        "cf2.min_to_subway = cf2.min_to_subway.fillna(cf2.min_to_subway.mean(), axis=0) #Replacing empty values with the mean of the entire column\n",
        "cf2.year_built = cf2.year_built.fillna(cf2.year_built.median(), axis=0) #Replacing empty values with the median of the entire column\n",
        "cf2.loc[cf2['size_sqft']==0,'size_sqft'] = np.nan\n",
        "cf2.size_sqft = cf2.size_sqft.fillna(cf2.size_sqft.mean(), axis=0)"
      ],
      "execution_count": 0,
      "outputs": []
    },
    {
      "cell_type": "code",
      "metadata": {
        "id": "6plFRNlo_OiF",
        "colab_type": "code",
        "colab": {
          "base_uri": "https://localhost:8080/",
          "height": 153
        },
        "outputId": "d0347b93-785f-4637-a54a-35746a485f99"
      },
      "source": [
        "cols_with_null = cf.columns[cf.isna().any()] # Return columns with null values \n",
        "\n",
        "cf[cols_with_null].isna().sum().sort_values(ascending=False) "
      ],
      "execution_count": 356,
      "outputs": [
        {
          "output_type": "execute_result",
          "data": {
            "text/plain": [
              "rent            2000\n",
              "line             612\n",
              "Occurrences      397\n",
              "floornumber      263\n",
              "unit              29\n",
              "addr_unit         29\n",
              "neighborhood       1\n",
              "dtype: int64"
            ]
          },
          "metadata": {
            "tags": []
          },
          "execution_count": 356
        }
      ]
    },
    {
      "cell_type": "markdown",
      "metadata": {
        "id": "0g8SwWPLyBjy",
        "colab_type": "text"
      },
      "source": [
        "**Build training data**"
      ]
    },
    {
      "cell_type": "code",
      "metadata": {
        "id": "Tvyd6u63yEVQ",
        "colab_type": "code",
        "colab": {}
      },
      "source": [
        "# extract usable features\n",
        "feature_cols = [\n",
        "    'bedrooms', 'year_built', 'bathrooms', 'min_to_subway', \n",
        "    'size_sqft', 'no_fee', 'has_doorman', 'Occurrences'\n",
        "]\n",
        "#Year build and minute values are the only features with missing values\n",
        "train_features = train_df[feature_cols] \n",
        "\n",
        "# impute missing values with medians\n",
        "train_features = train_features.fillna(train_features.median(), axis=0)\n",
        "\n",
        "# construct target vector\n",
        "train_target = train_df['rent']\n"
      ],
      "execution_count": 0,
      "outputs": []
    },
    {
      "cell_type": "markdown",
      "metadata": {
        "id": "VmbzfhFeyJJ5",
        "colab_type": "text"
      },
      "source": [
        "**Fit model**"
      ]
    },
    {
      "cell_type": "code",
      "metadata": {
        "id": "GWHTy2vKyH-e",
        "colab_type": "code",
        "colab": {
          "base_uri": "https://localhost:8080/",
          "height": 190
        },
        "outputId": "edce9be7-5a65-4ae7-e39c-5a52a30104e0"
      },
      "source": [
        "lreg = LinearRegression()\n",
        "lreg.fit(train_features, train_target)\n",
        "\n",
        "rf = RandomForestRegressor()\n",
        "rf.fit(train_features, train_target)"
      ],
      "execution_count": 358,
      "outputs": [
        {
          "output_type": "stream",
          "text": [
            "/usr/local/lib/python3.6/dist-packages/sklearn/ensemble/forest.py:245: FutureWarning: The default value of n_estimators will change from 10 in version 0.20 to 100 in 0.22.\n",
            "  \"10 in version 0.20 to 100 in 0.22.\", FutureWarning)\n"
          ],
          "name": "stderr"
        },
        {
          "output_type": "execute_result",
          "data": {
            "text/plain": [
              "RandomForestRegressor(bootstrap=True, criterion='mse', max_depth=None,\n",
              "                      max_features='auto', max_leaf_nodes=None,\n",
              "                      min_impurity_decrease=0.0, min_impurity_split=None,\n",
              "                      min_samples_leaf=1, min_samples_split=2,\n",
              "                      min_weight_fraction_leaf=0.0, n_estimators=10,\n",
              "                      n_jobs=None, oob_score=False, random_state=None,\n",
              "                      verbose=0, warm_start=False)"
            ]
          },
          "metadata": {
            "tags": []
          },
          "execution_count": 358
        }
      ]
    },
    {
      "cell_type": "markdown",
      "metadata": {
        "id": "9ihHE4wfyPaj",
        "colab_type": "text"
      },
      "source": [
        "**Predict and Measure Using Test 1**"
      ]
    },
    {
      "cell_type": "code",
      "metadata": {
        "id": "pphPacJNyPzp",
        "colab_type": "code",
        "colab": {
          "base_uri": "https://localhost:8080/",
          "height": 34
        },
        "outputId": "a64b107f-5975-4b3b-d751-4ee44bfc7d18"
      },
      "source": [
        "test_features = test_df[feature_cols] \n",
        "\n",
        "# impute missing values with medians\n",
        "test_features = test_features.fillna(train_features.median(), axis=0)\n",
        "\n",
        "# construct predictions \n",
        "test_df['predicted'] = rf.predict(test_features)\n",
        "\n",
        "mean_squared_error(test_df['rent'], test_df['predicted'])"
      ],
      "execution_count": 359,
      "outputs": [
        {
          "output_type": "execute_result",
          "data": {
            "text/plain": [
              "2513899.272474734"
            ]
          },
          "metadata": {
            "tags": []
          },
          "execution_count": 359
        }
      ]
    },
    {
      "cell_type": "markdown",
      "metadata": {
        "id": "lP1PzY5Lyrg_",
        "colab_type": "text"
      },
      "source": [
        "**Combine Data, Predict Values for Test 2**"
      ]
    },
    {
      "cell_type": "code",
      "metadata": {
        "id": "0V9Q56cqyqXw",
        "colab_type": "code",
        "colab": {
          "base_uri": "https://localhost:8080/",
          "height": 68
        },
        "outputId": "39a1c28e-ea90-4cd4-9ec0-eb22abba0b90"
      },
      "source": [
        "\n",
        "master_df = train_df.append(test_df, sort=False)\n",
        "\n",
        "master_df.loc[master_df['size_sqft']==0,'size_sqft'] = np.nan\n",
        "master_df.size_sqft = master_df.size_sqft.fillna(master_df.size_sqft.mean(), axis=0)\n",
        "\n",
        "master_features = master_df[feature_cols].fillna(master_df[feature_cols].median(), axis=0)\n",
        "master_target = master_df['rent']\n",
        "\n",
        "rf.fit(master_features, master_target)\n",
        "\n",
        "\n",
        "#DTR = DecisionTreeRegressor(random_state = 0)\n",
        "#DTR.fit(train_features,train_target)\n",
        "#xgbr = xgb.XGBRegressor()\n",
        "#xgbr.fit(train_features, train_target)\n",
        "\n",
        "#ridge = Ridge()\n",
        "#ridge.fit(train_features, train_target)\n",
        "\n",
        "knn = KNeighborsClassifier() # K-Nearest Neighbors\n",
        "knn.fit(train_features, train_target)"
      ],
      "execution_count": 360,
      "outputs": [
        {
          "output_type": "execute_result",
          "data": {
            "text/plain": [
              "KNeighborsClassifier(algorithm='auto', leaf_size=30, metric='minkowski',\n",
              "                     metric_params=None, n_jobs=None, n_neighbors=5, p=2,\n",
              "                     weights='uniform')"
            ]
          },
          "metadata": {
            "tags": []
          },
          "execution_count": 360
        }
      ]
    },
    {
      "cell_type": "code",
      "metadata": {
        "id": "88zmlYpmywoW",
        "colab_type": "code",
        "colab": {
          "base_uri": "https://localhost:8080/",
          "height": 238
        },
        "outputId": "58e75bcd-5579-4570-f747-08d146ec9cbd"
      },
      "source": [
        "print(cf['rent'].value_counts)"
      ],
      "execution_count": 361,
      "outputs": [
        {
          "output_type": "stream",
          "text": [
            "<bound method IndexOpsMixin.value_counts of rental_id\n",
            "7428577   NaN\n",
            "7454944   NaN\n",
            "7473595   NaN\n",
            "7490488   NaN\n",
            "7460896   NaN\n",
            "           ..\n",
            "7451410   NaN\n",
            "7493779   NaN\n",
            "7474525   NaN\n",
            "7507738   NaN\n",
            "7443274   NaN\n",
            "Name: rent, Length: 2000, dtype: float64>\n"
          ],
          "name": "stdout"
        }
      ]
    },
    {
      "cell_type": "markdown",
      "metadata": {
        "id": "Ekm8cWwIyypO",
        "colab_type": "text"
      },
      "source": [
        "**Create Submission File for test2**"
      ]
    },
    {
      "cell_type": "code",
      "metadata": {
        "id": "_JvQJaM0y1iY",
        "colab_type": "code",
        "colab": {
          "base_uri": "https://localhost:8080/",
          "height": 34
        },
        "outputId": "56e6118b-64e5-4664-cb83-b74eae88b529"
      },
      "source": [
        "submit1_features = cf[feature_cols].fillna(master_df[feature_cols].median(), axis=0)\n",
        "cf['predictions'] = knn.predict(submit1_features)\n",
        "cf['predictions'].to_csv('sample_submission1.csv', header=True)\n",
        "\n",
        "cf['fake_rent'] = np.ones(cf['predictions'].shape) * master_target.median()\n",
        "mean_squared_error(cf['predictions'], test_df['rent'])"
      ],
      "execution_count": 362,
      "outputs": [
        {
          "output_type": "execute_result",
          "data": {
            "text/plain": [
              "11236301.0485"
            ]
          },
          "metadata": {
            "tags": []
          },
          "execution_count": 362
        }
      ]
    },
    {
      "cell_type": "markdown",
      "metadata": {
        "id": "3Nm5o4mAzAgq",
        "colab_type": "text"
      },
      "source": [
        "**Create Submission File for test3**"
      ]
    },
    {
      "cell_type": "code",
      "metadata": {
        "id": "03OhnybfzDxF",
        "colab_type": "code",
        "colab": {
          "base_uri": "https://localhost:8080/",
          "height": 34
        },
        "outputId": "ab0cc994-a12f-4d23-99e4-127813c356be"
      },
      "source": [
        "submit2_features = cf2[feature_cols].fillna(master_df[feature_cols].median(), axis=0)\n",
        "cf2['predictions'] = knn.predict(submit2_features)\n",
        "cf2['predictions'].to_csv('sample_submission2.csv', header=True)\n",
        "\n",
        "cf2['fake_rent'] = np.ones(cf2['predictions'].shape) * master_target.median()\n",
        "mean_squared_error(cf2['predictions'], test_df['rent'])"
      ],
      "execution_count": 363,
      "outputs": [
        {
          "output_type": "execute_result",
          "data": {
            "text/plain": [
              "11693457.4555"
            ]
          },
          "metadata": {
            "tags": []
          },
          "execution_count": 363
        }
      ]
    }
  ]
}